{
 "cells": [
  {
   "cell_type": "code",
   "execution_count": 1,
   "metadata": {},
   "outputs": [],
   "source": [
    "import pandas as pd\n",
    "import numpy as np\n",
    "import matplotlib.pyplot as plt\n",
    "import seaborn as sns\n",
    "%matplotlib inline"
   ]
  },
  {
   "cell_type": "code",
   "execution_count": 2,
   "metadata": {},
   "outputs": [
    {
     "name": "stdout",
     "output_type": "stream",
     "text": [
      "total 132608\n",
      "drwxr-xr-x  9 vyju  staff   288B Jan  7 10:37 \u001b[1m\u001b[34m..\u001b[m\u001b[m\n",
      "-rw-r--r--  1 vyju  staff    42M Jan  7 10:04 Public_Schools.csv\n",
      "drwxr-xr-x  7 vyju  staff   224B Jan  7 10:04 \u001b[1m\u001b[34m.\u001b[m\u001b[m\n",
      "-rw-r--r--  1 vyju  staff    14M Jan  7 10:04 Private_Schools.csv\n",
      "-rw-r--r--  1 vyju  staff   1.1M Jan  7 10:04 Poverty_est18all.xls\n",
      "-rw-r--r--  1 vyju  staff   3.6M Jan  7 10:04 Hospitals.csv\n",
      "-rw-r--r--  1 vyju  staff   3.6M Jan  7 10:04 County_Zhvi_AllHomes.csv\n"
     ]
    }
   ],
   "source": [
    "!ls -lath data"
   ]
  },
  {
   "cell_type": "code",
   "execution_count": 3,
   "metadata": {},
   "outputs": [],
   "source": [
    "df = pd.read_csv('data/County_Zhvi_AllHomes.csv', encoding='latin1')"
   ]
  },
  {
   "cell_type": "code",
   "execution_count": 7,
   "metadata": {},
   "outputs": [
    {
     "name": "stdout",
     "output_type": "stream",
     "text": [
      "<class 'pandas.core.frame.DataFrame'>\n",
      "RangeIndex: 2018 entries, 0 to 2017\n",
      "Columns: 150 entries, RegionID to 2019-11\n",
      "dtypes: float64(143), int64(4), object(3)\n",
      "memory usage: 2.3+ MB\n"
     ]
    }
   ],
   "source": []
  },
  {
   "cell_type": "code",
   "execution_count": null,
   "metadata": {},
   "outputs": [],
   "source": []
  }
 ],
 "metadata": {
  "kernelspec": {
   "display_name": "Python 3",
   "language": "python",
   "name": "python3"
  },
  "language_info": {
   "codemirror_mode": {
    "name": "ipython",
    "version": 3
   },
   "file_extension": ".py",
   "mimetype": "text/x-python",
   "name": "python",
   "nbconvert_exporter": "python",
   "pygments_lexer": "ipython3",
   "version": "3.7.4"
  }
 },
 "nbformat": 4,
 "nbformat_minor": 4
}
